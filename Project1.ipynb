{
 "cells": [
  {
   "cell_type": "markdown",
   "id": "04e17343",
   "metadata": {},
   "source": [
    "## End-to-End Pipeline to Classify News Articles\n",
    "\n",
    "### Exploring the data"
   ]
  },
  {
   "cell_type": "code",
   "execution_count": 11,
   "id": "65fc25b1",
   "metadata": {},
   "outputs": [],
   "source": [
    "# Importing libraries to be used in the project\n",
    "\n",
    "import pandas as pd\n",
    "import numpy as np\n",
    "import matplotlib.pyplot as plt\n",
    "import random\n",
    "import re\n",
    "import contractions\n",
    "import nltk\n",
    "\n",
    "from sklearn.model_selection import train_test_split\n",
    "from sklearn.feature_extraction.text import CountVectorizer\n",
    "from sklearn.feature_extraction.text import TfidfTransformer\n",
    "from nltk.stem import WordNetLemmatizer\n",
    "from nltk.stem import PorterStemmer\n",
    "from nltk.corpus import wordnet\n",
    "from nltk.corpus import stopwords\n",
    "from sklearn.pipeline import Pipeline\n",
    "from sklearn.decomposition import TruncatedSVD\n",
    "\n",
    "from sklearn.decomposition import NMF\n",
    "from sklearn import svm\n",
    "from sklearn import datasets, metrics\n",
    "from sklearn.model_selection import KFold\n",
    "from sklearn.linear_model import LogisticRegression\n",
    "from sklearn.naive_bayes import GaussianNB\n",
    "from sklearn.model_selection import GridSearchCV\n",
    "\n",
    "from sklearn.metrics import plot_confusion_matrix, f1_score, accuracy_score, precision_score, recall_score, confusion_matrix\n",
    "from sklearn.multiclass import OneVsRestClassifier\n",
    "from sklearn.multiclass import OneVsOneClassifier\n",
    "\n",
    "import pickle"
   ]
  },
  {
   "cell_type": "code",
   "execution_count": 742,
   "id": "023180e9",
   "metadata": {},
   "outputs": [],
   "source": [
    "# Initializations\n",
    "lemmatizer = WordNetLemmatizer()\n",
    "ps = PorterStemmer()\n",
    "\n",
    "stopWords = set(stopwords.words('English'))"
   ]
  },
  {
   "cell_type": "code",
   "execution_count": 562,
   "id": "7e418ea5",
   "metadata": {},
   "outputs": [
    {
     "name": "stdout",
     "output_type": "stream",
     "text": [
      "-------------Column names-------------\n",
      " \n",
      " Index(['Unnamed: 0', 'full_text', 'summary', 'keywords', 'publish_date',\n",
      "       'authors', 'url', 'leaf_label', 'root_label'],\n",
      "      dtype='object') \n",
      "\n",
      "-------------Unique leaf labels------------- \n",
      " ['cricket' 'football' 'soccer' 'chess' '%22forest%20fire%22' 'flood'\n",
      " 'earthquake' 'drought'] \n",
      "\n",
      "-------------Unique root labels------------- \n",
      " ['sports' 'climate'] \n",
      "\n",
      "Row samples: 2072, features: 9, \n",
      "\n",
      "-------------Viewing a few data points randomly-----------\n"
     ]
    },
    {
     "data": {
      "text/html": [
       "<div>\n",
       "<style scoped>\n",
       "    .dataframe tbody tr th:only-of-type {\n",
       "        vertical-align: middle;\n",
       "    }\n",
       "\n",
       "    .dataframe tbody tr th {\n",
       "        vertical-align: top;\n",
       "    }\n",
       "\n",
       "    .dataframe thead th {\n",
       "        text-align: right;\n",
       "    }\n",
       "</style>\n",
       "<table border=\"1\" class=\"dataframe\">\n",
       "  <thead>\n",
       "    <tr style=\"text-align: right;\">\n",
       "      <th></th>\n",
       "      <th>Unnamed: 0</th>\n",
       "      <th>full_text</th>\n",
       "      <th>summary</th>\n",
       "      <th>keywords</th>\n",
       "      <th>publish_date</th>\n",
       "      <th>authors</th>\n",
       "      <th>url</th>\n",
       "      <th>leaf_label</th>\n",
       "      <th>root_label</th>\n",
       "    </tr>\n",
       "  </thead>\n",
       "  <tbody>\n",
       "    <tr>\n",
       "      <th>781</th>\n",
       "      <td>1840</td>\n",
       "      <td>Image via Kasparov Chess\\n\\nSpeaking to CNBC a...</td>\n",
       "      <td>Image via Kasparov ChessSpeaking to CNBC at th...</td>\n",
       "      <td>['used', 'text', 'decision', 'axe', 'feature',...</td>\n",
       "      <td>2021-11-04 10:46:00</td>\n",
       "      <td>['Paul Hill']</td>\n",
       "      <td>https://www.neowin.net/news/garry-kasparov-say...</td>\n",
       "      <td>chess</td>\n",
       "      <td>sports</td>\n",
       "    </tr>\n",
       "    <tr>\n",
       "      <th>811</th>\n",
       "      <td>2024</td>\n",
       "      <td>Nearly 3,000 fans packed Brooklyn’s historic K...</td>\n",
       "      <td>Nearly 3,000 fans packed Brooklyn’s historic K...</td>\n",
       "      <td>['smiths', 'hubert', 'healing', 'stop', 'brook...</td>\n",
       "      <td>NaN</td>\n",
       "      <td>[]</td>\n",
       "      <td>https://www.essence.com/entertainment/janet-hu...</td>\n",
       "      <td>chess</td>\n",
       "      <td>sports</td>\n",
       "    </tr>\n",
       "    <tr>\n",
       "      <th>1079</th>\n",
       "      <td>2431</td>\n",
       "      <td>VIC Premier\\n\\nTwelve organisations across Vic...</td>\n",
       "      <td>VIC PremierTwelve organisations across Victori...</td>\n",
       "      <td>['areas', 'club', 'local', 'community', 'bushf...</td>\n",
       "      <td>2021-10-07 04:42:16+00:00</td>\n",
       "      <td>[]</td>\n",
       "      <td>https://www.miragenews.com/building-back-bette...</td>\n",
       "      <td>%22forest%20fire%22</td>\n",
       "      <td>climate</td>\n",
       "    </tr>\n",
       "    <tr>\n",
       "      <th>1657</th>\n",
       "      <td>3288</td>\n",
       "      <td>As the snow starts to settle in the Arizona hi...</td>\n",
       "      <td>A magnitude 3.0 earthquake in northern Arizona...</td>\n",
       "      <td>['hits', 'earthquake', 'states', 'quakes', 'un...</td>\n",
       "      <td>2021-12-19 00:00:00</td>\n",
       "      <td>[]</td>\n",
       "      <td>https://www.azcentral.com/story/news/local/ari...</td>\n",
       "      <td>earthquake</td>\n",
       "      <td>climate</td>\n",
       "    </tr>\n",
       "    <tr>\n",
       "      <th>1170</th>\n",
       "      <td>2323</td>\n",
       "      <td>Meanwhile, Cal/OSHA also struggled with staffi...</td>\n",
       "      <td>One worker's storyCalifornia’s wildfire smoke ...</td>\n",
       "      <td>['wildfire', 'days', 'chief', 'california', 'i...</td>\n",
       "      <td>NaN</td>\n",
       "      <td>[]</td>\n",
       "      <td>https://www.kqed.org/news/11897789/california-...</td>\n",
       "      <td>%22forest%20fire%22</td>\n",
       "      <td>climate</td>\n",
       "    </tr>\n",
       "  </tbody>\n",
       "</table>\n",
       "</div>"
      ],
      "text/plain": [
       "      Unnamed: 0                                          full_text  \\\n",
       "781         1840  Image via Kasparov Chess\\n\\nSpeaking to CNBC a...   \n",
       "811         2024  Nearly 3,000 fans packed Brooklyn’s historic K...   \n",
       "1079        2431  VIC Premier\\n\\nTwelve organisations across Vic...   \n",
       "1657        3288  As the snow starts to settle in the Arizona hi...   \n",
       "1170        2323  Meanwhile, Cal/OSHA also struggled with staffi...   \n",
       "\n",
       "                                                summary  \\\n",
       "781   Image via Kasparov ChessSpeaking to CNBC at th...   \n",
       "811   Nearly 3,000 fans packed Brooklyn’s historic K...   \n",
       "1079  VIC PremierTwelve organisations across Victori...   \n",
       "1657  A magnitude 3.0 earthquake in northern Arizona...   \n",
       "1170  One worker's storyCalifornia’s wildfire smoke ...   \n",
       "\n",
       "                                               keywords  \\\n",
       "781   ['used', 'text', 'decision', 'axe', 'feature',...   \n",
       "811   ['smiths', 'hubert', 'healing', 'stop', 'brook...   \n",
       "1079  ['areas', 'club', 'local', 'community', 'bushf...   \n",
       "1657  ['hits', 'earthquake', 'states', 'quakes', 'un...   \n",
       "1170  ['wildfire', 'days', 'chief', 'california', 'i...   \n",
       "\n",
       "                   publish_date        authors  \\\n",
       "781         2021-11-04 10:46:00  ['Paul Hill']   \n",
       "811                         NaN             []   \n",
       "1079  2021-10-07 04:42:16+00:00             []   \n",
       "1657        2021-12-19 00:00:00             []   \n",
       "1170                        NaN             []   \n",
       "\n",
       "                                                    url           leaf_label  \\\n",
       "781   https://www.neowin.net/news/garry-kasparov-say...                chess   \n",
       "811   https://www.essence.com/entertainment/janet-hu...                chess   \n",
       "1079  https://www.miragenews.com/building-back-bette...  %22forest%20fire%22   \n",
       "1657  https://www.azcentral.com/story/news/local/ari...           earthquake   \n",
       "1170  https://www.kqed.org/news/11897789/california-...  %22forest%20fire%22   \n",
       "\n",
       "     root_label  \n",
       "781      sports  \n",
       "811      sports  \n",
       "1079    climate  \n",
       "1657    climate  \n",
       "1170    climate  "
      ]
     },
     "execution_count": 562,
     "metadata": {},
     "output_type": "execute_result"
    }
   ],
   "source": [
    "# Loading the data\n",
    "rawData = pd.read_csv('Project_1_dataset_01_01_2022.csv')\n",
    "\n",
    "# Looking at raw data attributes\n",
    "print(\"-------------Column names-------------\\n \\n\", rawData.columns, '\\n')\n",
    "\n",
    "# Getting the unique leaf_label and root_label\n",
    "print(\"-------------Unique leaf labels------------- \\n\", rawData['leaf_label'].unique(), '\\n')\n",
    "print(\"-------------Unique root labels------------- \\n\", rawData['root_label'].unique(), '\\n')\n",
    "\n",
    "print(\"Row samples: {}, features: {}, \\n\".format(rawData.shape[0], rawData.shape[1]))\n",
    "\n",
    "print(\"-------------Viewing a few data points randomly-----------\")\n",
    "rawData.sample(5)\n"
   ]
  },
  {
   "cell_type": "code",
   "execution_count": 563,
   "id": "ce99ba19",
   "metadata": {},
   "outputs": [
    {
     "data": {
      "text/plain": [
       "Text(0, 0.5, 'Frequency of each root label')"
      ]
     },
     "execution_count": 563,
     "metadata": {},
     "output_type": "execute_result"
    },
    {
     "data": {
      "text/plain": [
       "<Figure size 432x288 with 0 Axes>"
      ]
     },
     "metadata": {},
     "output_type": "display_data"
    },
    {
     "data": {
      "image/png": "[encoded data removed]",
      "text/plain": [
       "<Figure size 576x576 with 1 Axes>"
      ]
     },
     "metadata": {
      "needs_background": "light"
     },
     "output_type": "display_data"
    },
    {
     "data": {
      "image/png": "[encoded data removed]",
      "text/plain": [
       "<Figure size 432x288 with 1 Axes>"
      ]
     },
     "metadata": {
      "needs_background": "light"
     },
     "output_type": "display_data"
    },
    {
     "data": {
      "image/png": "[encoded data removed]",
      "text/plain": [
       "<Figure size 432x288 with 1 Axes>"
      ]
     },
     "metadata": {
      "needs_background": "light"
     },
     "output_type": "display_data"
    }
   ],
   "source": [
    "plt.figure()\n",
    "pd.DataFrame(rawData['full_text'].apply(lambda x: len(x))).hist(bins=100, figsize= (8, 8))\n",
    "plt.xlabel(\"Characters in Full-text\")\n",
    "plt.ylabel(\"Frequency\")\n",
    "\n",
    "\n",
    "plt.figure()\n",
    "rawData['leaf_label'].hist(xrot=90)\n",
    "plt.xlabel(\"Leaf Labels\")\n",
    "plt.ylabel(\"Frequency of each leaf label\")\n",
    "\n",
    "\n",
    "plt.figure()\n",
    "rawData['root_label'].hist()\n",
    "plt.xlabel(\"Root Labels\")\n",
    "plt.ylabel(\"Frequency of each root label\")"
   ]
  },
  {
   "cell_type": "markdown",
   "id": "2f2c568b",
   "metadata": {},
   "source": [
    "### Question 1\n",
    "<b>(a).</b>\n",
    "\n",
    "    Row samples: 2072, features: 9\n",
    "\n",
    "<b>(b)</b>. All three histograms are plotted in above cell.\n",
    "\n",
    "<b>(c)</b>. For raw 'full-text' feature, we can see that there are a some outliers having a very large number of characters and quite a lot having extremely small number of characters. The data distribution of number of articles vs no. of characters can be roughly seen as a Gaussian Distribution.\n",
    "\n",
    "For the histogram No. of articles vs Leaf labels, we can see that samples are evenly distributed into each leaf label (8 total labels) category with each label having around ~259 samples each.\n",
    "\n",
    "For the histogram No. of articles vs Root labels, we can see that samples are evenly distributed into each root label (sports and climate) with each label having around ~ 1036 samples each."
   ]
  },
  {
   "cell_type": "code",
   "execution_count": 564,
   "id": "2dca3473",
   "metadata": {},
   "outputs": [],
   "source": [
    "# Seeding the random number generator\n",
    "\n",
    "np.random.seed(42)\n",
    "random.seed(42)"
   ]
  },
  {
   "cell_type": "markdown",
   "id": "b7ad0311",
   "metadata": {},
   "source": [
    "### Binary Classification of articles using only the feature \"full_text\""
   ]
  },
  {
   "cell_type": "code",
   "execution_count": 565,
   "id": "4110252f",
   "metadata": {},
   "outputs": [
    {
     "name": "stdout",
     "output_type": "stream",
     "text": [
      "--------- Train data Size: 1657, Test data Size: 415 ---------\n"
     ]
    }
   ],
   "source": [
    "#  Splitting the data into train and test with test_size as 20%\n",
    "train, test = train_test_split(rawData, test_size=0.2)\n",
    "print(\"--------- Train data Size: {}, Test data Size: {} ---------\".format(len(train), len(test)))"
   ]
  },
  {
   "cell_type": "markdown",
   "id": "f1259c0e",
   "metadata": {},
   "source": [
    "### Question 2\n",
    "\n",
    "Training dataset size: 1657\n",
    "\n",
    "Test dataset size: 415\n"
   ]
  },
  {
   "cell_type": "markdown",
   "id": "67a3307a",
   "metadata": {},
   "source": [
    "### Feature extraction\n",
    "\n",
    "The feature which we are going to use is \"full_text\" which is neither cleaned nor it can be used to perform computations on it. We need some numerical representation of such data to perform classification."
   ]
  },
  {
   "cell_type": "code",
   "execution_count": 816,
   "id": "2dd43a7b",
   "metadata": {},
   "outputs": [],
   "source": [
    "#  Function to clean the raw HTML text\n",
    "def clean(text):\n",
    "    text = re.sub(r'^https?:\\/\\/.*[\\r\\n]*', '', text, flags=re.MULTILINE)\n",
    "    texter = re.sub(r\"<br />\", \" \", text)\n",
    "    texter = re.sub(r'http\\S+', '', text)\n",
    "    texter = re.sub(r\"&quot;\", \"\\\"\",texter)\n",
    "    texter = re.sub('&#39;', \"\\\"\", texter)\n",
    "    texter = re.sub('\\n', \" \", texter)\n",
    "    texter = re.sub(' u ',\" you \", texter)\n",
    "    texter = re.sub('`',\"\", texter)\n",
    "    texter = re.sub(' +', ' ', texter)\n",
    "    texter = re.sub(r\"(!)\\1+\", r\"!\", texter)\n",
    "    texter = re.sub(r\"(\\?)\\1+\", r\"?\", texter)\n",
    "    texter = re.sub('&amp;', 'and', texter)\n",
    "    texter = re.sub('\\r', ' ',texter)\n",
    "    clean = re.compile('<.*?>')\n",
    "    texter = texter.encode('ascii', 'ignore').decode('ascii')\n",
    "    texter = re.sub(clean, '', texter)\n",
    "    texter = texter.strip()\n",
    "    texter = contractions.fix(texter)\n",
    "    texter = re.sub('''[!\"#$%&'()*+,/;:-<=>?@[\\]^_`{|}~-]''', '', texter)\n",
    "    texter = texter.lower()\n",
    "    texter = re.sub(' +', ' ', texter)\n",
    "    if texter == \"\":\n",
    "        texter = \"\"\n",
    "    return texter"
   ]
  },
  {
   "cell_type": "code",
   "execution_count": 663,
   "id": "67fce89f",
   "metadata": {},
   "outputs": [],
   "source": [
    "def get_pos_tags(nltkTag):\n",
    "    firstChar = nltkTag[0]\n",
    "    if firstChar == 'J':\n",
    "        return wordnet.ADJ\n",
    "    if firstChar == 'S':\n",
    "        return wordnet.ADJ_SAT\n",
    "    if firstChar == 'V':\n",
    "        return wordnet.VERB\n",
    "    if firstChar == 'N':\n",
    "        return wordnet.NOUN\n",
    "    if firstChar == 'R':\n",
    "        return wordnet.ADV\n",
    "    return wordnet.NOUN\n",
    "\n",
    "def lemmatize(text):\n",
    "    tokens = nltk.word_tokenize(text)\n",
    "    posTags = nltk.pos_tag(tokens)\n",
    "    tags = [get_pos_tags(w[1]) for w in posTags]\n",
    "    lemmas = [lemmatizer.lemmatize(tokens[i], tags[i]) for i in range(0, len(tokens))]\n",
    "    lemmas = ' '.join(lemmas)\n",
    "    lemmas = re.sub(r'\\w*\\d\\w*', '', lemmas)\n",
    "    lemmas = re.sub('[.]', '', lemmas)\n",
    "    lemmas = re.sub(' +', ' ', lemmas).strip()\n",
    "    return lemmas\n",
    "\n",
    "def stemmer(text):\n",
    "    tokens = nltk.word_tokenize(text)\n",
    "    stems = [ps.stem(tokens[i]) for i in range(0, len(tokens))]\n",
    "    stems = ' '.join(stems)\n",
    "    stems = re.sub(r'\\w*\\d\\w*', '', stems)\n",
    "    stems = re.sub('[.]', '', stems)\n",
    "    stems = re.sub(' +', ' ', stems).strip()\n",
    "    return stems\n",
    "\n",
    "def preprocess(sample):\n",
    "    sample = clean(sample)\n",
    "    sample = sample.split('.')\n",
    "    sample = [lemmatize(sentence) for sentence in sample]\n",
    "    sample = '.'.join(sample)\n",
    "    return sample\n",
    "\n",
    "def preprocessStem(sample):\n",
    "    sample = clean(sample)\n",
    "    sample = sample.split('.')\n",
    "    sample = [stemmer(sentence) for sentence in sample]\n",
    "    sample = '.'.join(sample)\n",
    "    return sample\n",
    "\n",
    "def preprocessNoCompress(sample):\n",
    "    sample = clean(sample)\n",
    "    return sample\n",
    "\n",
    "def preprocessNC(sample):\n",
    "    sample = sample.split('.')\n",
    "    sample = [lemmatize(sentence) for sentence in sample]\n",
    "    sample = '.'.join(sample)\n",
    "    return sample\n",
    "\n",
    "def preprocessStemNC(sample):\n",
    "    sample = sample.split('.')\n",
    "    sample = [stemmer(sentence) for sentence in sample]\n",
    "    sample = '.'.join(sample)\n",
    "    return sample\n",
    "\n",
    "def preprocessNoCompressNC(sample):\n",
    "    return sample"
   ]
  },
  {
   "cell_type": "code",
   "execution_count": 664,
   "id": "7178f61c",
   "metadata": {},
   "outputs": [],
   "source": [
    "# Feature Extraction using CountVectorizer and TF-IDF transformation using Pipeline.\n",
    "featurePipeline = Pipeline([\n",
    "    ('count', CountVectorizer(preprocessor=preprocess, stop_words='english', min_df=3)),\n",
    "    ('tfidf', TfidfTransformer(smooth_idf=True, use_idf=True))\n",
    "]).fit(train['full_text'])"
   ]
  },
  {
   "cell_type": "code",
   "execution_count": 569,
   "id": "f39cd100",
   "metadata": {},
   "outputs": [
    {
     "name": "stdout",
     "output_type": "stream",
     "text": [
      "--------- Training data TF-IDF Matrix size: (1657, 9865)--------\n",
      "--------- Testing data TF-IDF Matrix size: (415, 9865)--------\n"
     ]
    }
   ],
   "source": [
    "#  TF-IDF processed train and test matrices.\n",
    "train_tfidf = featurePipeline.transform(train['full_text'])\n",
    "test_tfidf = featurePipeline.transform(test['full_text'])\n",
    "\n",
    "print(\"--------- Training data TF-IDF Matrix size: {}--------\".format(train_tfidf.shape))\n",
    "print(\"--------- Testing data TF-IDF Matrix size: {}--------\".format(test_tfidf.shape))"
   ]
  },
  {
   "cell_type": "code",
   "execution_count": 570,
   "id": "9b4bb0e8",
   "metadata": {},
   "outputs": [
    {
     "data": {
      "text/html": [
       "<div>\n",
       "<style scoped>\n",
       "    .dataframe tbody tr th:only-of-type {\n",
       "        vertical-align: middle;\n",
       "    }\n",
       "\n",
       "    .dataframe tbody tr th {\n",
       "        vertical-align: top;\n",
       "    }\n",
       "\n",
       "    .dataframe thead th {\n",
       "        text-align: right;\n",
       "    }\n",
       "</style>\n",
       "<table border=\"1\" class=\"dataframe\">\n",
       "  <thead>\n",
       "    <tr style=\"text-align: right;\">\n",
       "      <th></th>\n",
       "      <th>IDF_weights</th>\n",
       "    </tr>\n",
       "  </thead>\n",
       "  <tbody>\n",
       "    <tr>\n",
       "      <th>dean</th>\n",
       "      <td>6.015472</td>\n",
       "    </tr>\n",
       "    <tr>\n",
       "      <th>occupy</th>\n",
       "      <td>5.417635</td>\n",
       "    </tr>\n",
       "    <tr>\n",
       "      <th>swim</th>\n",
       "      <td>6.803929</td>\n",
       "    </tr>\n",
       "    <tr>\n",
       "      <th>raging</th>\n",
       "      <td>7.027073</td>\n",
       "    </tr>\n",
       "    <tr>\n",
       "      <th>defensive</th>\n",
       "      <td>4.606705</td>\n",
       "    </tr>\n",
       "    <tr>\n",
       "      <th>bundesliga</th>\n",
       "      <td>6.803929</td>\n",
       "    </tr>\n",
       "    <tr>\n",
       "      <th>revenue</th>\n",
       "      <td>4.802449</td>\n",
       "    </tr>\n",
       "    <tr>\n",
       "      <th>brigade</th>\n",
       "      <td>6.216143</td>\n",
       "    </tr>\n",
       "    <tr>\n",
       "      <th>sandbag</th>\n",
       "      <td>6.803929</td>\n",
       "    </tr>\n",
       "    <tr>\n",
       "      <th>resonant</th>\n",
       "      <td>7.027073</td>\n",
       "    </tr>\n",
       "  </tbody>\n",
       "</table>\n",
       "</div>"
      ],
      "text/plain": [
       "            IDF_weights\n",
       "dean           6.015472\n",
       "occupy         5.417635\n",
       "swim           6.803929\n",
       "raging         7.027073\n",
       "defensive      4.606705\n",
       "bundesliga     6.803929\n",
       "revenue        4.802449\n",
       "brigade        6.216143\n",
       "sandbag        6.803929\n",
       "resonant       7.027073"
      ]
     },
     "execution_count": 570,
     "metadata": {},
     "output_type": "execute_result"
    }
   ],
   "source": [
    "# Seeing some IDF values of words in training corpus\n",
    "idf_Df = pd.DataFrame(pipe['tfidf'].idf_, index=pipe['count'].get_feature_names(),columns=[\"IDF_weights\"])\n",
    "idf_Df.sort_values(by=[\"IDF_weights\"], ascending=False).sample(10)"
   ]
  },
  {
   "cell_type": "code",
   "execution_count": 571,
   "id": "2b7d1308",
   "metadata": {},
   "outputs": [],
   "source": [
    "# Getting TF-IDF vector representations of some of the documents in training corpus\n",
    "trialData = train['full_text'].sample(5)\n",
    "tfidf_trialData = pipe.transform(trialData)"
   ]
  },
  {
   "cell_type": "markdown",
   "id": "e7b66546",
   "metadata": {},
   "source": [
    "### Question 3\n",
    "\n",
    "<b>(a)</b>. \n",
    "<b>Pros of Lemmatization</b>:\n",
    "1. Lemmatization tries to understand the context in which the word is used. Based on the context the word lemma can vary which is very useful if differentiating the context of two sentences having same words. \n",
    "\n",
    "2. Lemmatization can capture the semantic meaning of sentence.\n",
    "\n",
    "<b>Cons of Lemmatization</b>:\n",
    "\n",
    "1. Lemmatization requires a large corpus and well formed dictionaries to get the lemma of a word or change it based on the context and on the form(verb, noun, adverb etc) in which it is used in sentence. Stemming just uses the word and tries to find it's stem using language based rules by trimming from front or back of word.\n",
    "\n",
    "2. Lemmatization process is slower in run-time compared to stemming.\n",
    "\n",
    "\n",
    "<b>(b)</b>.\n",
    "As we increase the min_df (minimum document frequency) the tf-idf size(columns) reduces since generally not all words are equally likely to be present in a corpus and thus words with lower frequencies (below min_df) in corpus are dropped and thus the representation vector for each sample also reduces.\n",
    "\n",
    "<b>(c)<b>. \n",
    "It's better to remove stopwords after lemmatizing given one is using a complex lemmatizer which relies on context in which a word is used.\n",
    "\n",
    "Punctuations should be removed before lemmatizing because most of the lemmatizers use a list of words as input and punctutations don't fall into a word category so they are quite useless. Some punctuations should be preprocessed and removed earlier like apostrophes in don't etc. This can be done via contractions.\n",
    "\n",
    "Numbers can be removed before of after lemmatizing since they are just numerals and dont really have a lemma. Basically their form is unaltered even after lemmatizing.\n",
    "\n",
    "\n",
    "<b>(d)</b>.\n",
    "Training data TF-IDF Matrix size: (1657, 9865)\n",
    "Testing data TF-IDF Matrix size: (415, 9865)\n",
    "\n",
    "No. of columns: (k * 10^3) where k ~ 10"
   ]
  },
  {
   "cell_type": "code",
   "execution_count": 572,
   "id": "231e33ed",
   "metadata": {},
   "outputs": [],
   "source": [
    "# Dimensionality Reduction\n",
    "\n",
    "# Latent semantic indexing\n",
    "\n",
    "# Singular values are already sorted.\n",
    "\n",
    "def getSVD(n_comp, data):\n",
    "    SVD = TruncatedSVD(n_components=n_comp, random_state=42)\n",
    "    SVD.fit(data)\n",
    "    return SVD"
   ]
  },
  {
   "cell_type": "code",
   "execution_count": 573,
   "id": "897da7c2",
   "metadata": {},
   "outputs": [],
   "source": [
    "# NMF Non-negative Matrix Factorization\n",
    "def getNMF(n_comp, data):\n",
    "    NMFmodel = NMF(n_components=n_comp, init='random', random_state=42)\n",
    "    NMFmodel.fit(data)\n",
    "    return NMFmodel"
   ]
  },
  {
   "cell_type": "code",
   "execution_count": 574,
   "id": "2c8e0762",
   "metadata": {},
   "outputs": [
    {
     "data": {
      "image/png": "[encoded data removed]",
      "text/plain": [
       "<Figure size 432x288 with 1 Axes>"
      ]
     },
     "metadata": {
      "needs_background": "light"
     },
     "output_type": "display_data"
    }
   ],
   "source": [
    "# Plotting variance graph\n",
    "k_values = [1, 10, 50, 100, 200, 500, 1000, 2000]\n",
    "variance_ratio = []\n",
    "reconstructionErrors = []\n",
    "\n",
    "for i in range(0, len(k_values)):\n",
    "    SVD = getSVD(k_values[i], train_tfidf)\n",
    "    variance_ratio.append(SVD.explained_variance_ratio_.sum())\n",
    "    transformed = SVD.transform(train_tfidf)\n",
    "    reconstruct = SVD.inverse_transform(transformed)\n",
    "    reconstructionErrors.append(np.linalg.norm((train_tfidf.toarray() - reconstruct), 'fro') ** 2)\n",
    "    \n",
    "plt.plot(k_values, variance_ratio)\n",
    "plt.xlabel(\"K values\")\n",
    "plt.ylabel(\"Variance percentage\")\n",
    "plt.title(\"Variance ratio curve #LSI\")\n",
    "plt.show()"
   ]
  },
  {
   "cell_type": "code",
   "execution_count": 575,
   "id": "41c4847f",
   "metadata": {},
   "outputs": [],
   "source": [
    "# Fitting NMF for k = 50\n",
    "k = 50\n",
    "NMFdecomp = getNMF(k, train_tfidf)"
   ]
  },
  {
   "cell_type": "code",
   "execution_count": 576,
   "id": "03035d18",
   "metadata": {},
   "outputs": [
    {
     "name": "stdout",
     "output_type": "stream",
     "text": [
      "---------- Reconstruction residual MSE error for LSI:: 1177.8659302458702 -----------\n",
      "---------- Reconstruction residual MSE error for NMF:: 1197.1490559991569 -----------\n"
     ]
    }
   ],
   "source": [
    "# Reconstruction Errors\n",
    "reconstructedLSIError = reconstructionErrors[2]\n",
    "reconstructedNMFError = (NMFdecomp.reconstruction_err_)**2\n",
    "\n",
    "print(\"---------- Reconstruction residual MSE error for LSI:: {} -----------\".format(reconstructedLSIError))\n",
    "print(\"---------- Reconstruction residual MSE error for NMF:: {} -----------\".format(reconstructedNMFError))"
   ]
  },
  {
   "cell_type": "markdown",
   "id": "c5a50572",
   "metadata": {},
   "source": [
    "### Question 4\n",
    "\n",
    "<b>(a).</b>\n",
    "\n",
    "The variance ration plot for LSI looks like a transient curve which increases exponentially when K is small and then saturates. It's a concave curve.\n",
    "The plot's concavity suggests that projections along the initial singular vectors which correspond to largest eigen values capture most of the variance. The graph shows that principal 250 singular vectors capture around 60% of variance, and principal 1000 singular vectors capture around 92-95% of variance in training data.\n",
    "\n",
    "<b>(b).</b>\n",
    "\n",
    "Reconstruction residual MSE error for LSI:: 1177.8659302458702 </br>\n",
    "Reconstruction residual MSE error for NMF:: 1197.1490559991569\n",
    "\n",
    "Reconstruction residual MSE error for LSI is smaller compared to that from NMF.\n",
    "\n",
    "The reconstruction error from NMF is smaller because NMF in particular tries to learn important features which represent the original data in a compressed format. Also given the data is textual data, NMF can easily represent the data vectors into smaller dimensions keeping the original features intact whereas PCA projects the original features onto best variance maintaing vectors thus loosing the originality."
   ]
  },
  {
   "cell_type": "markdown",
   "id": "58a5c05b",
   "metadata": {},
   "source": [
    "## Binary Classification with choice of K\n",
    "\n",
    "Choosing K to be 500 since it captures around 80% of variance also the number of data points then are almost 4 times to that of number of features.\n",
    "\n",
    "### Using Support Vector Machines"
   ]
  },
  {
   "cell_type": "code",
   "execution_count": 577,
   "id": "339937b9",
   "metadata": {},
   "outputs": [],
   "source": [
    "k_feat = 500\n",
    "train_labels = np.array((train['root_label'] == 'climate').astype('int'))\n",
    "test_labels = np.array((test['root_label'] == 'climate').astype('int'))\n",
    "\n",
    "SVDK500 = getSVD(k_feat, train_tfidf)\n",
    "trainDataK500 = SVDK500.transform(train_tfidf)\n",
    "testDataK500 = SVDK500.transform(test_tfidf)"
   ]
  },
  {
   "cell_type": "code",
   "execution_count": 578,
   "id": "0ac3277e",
   "metadata": {},
   "outputs": [],
   "source": [
    "#Hard Linear SVM\n",
    "HardSVMModel = svm.SVC(kernel='linear', C = 1000)\n",
    "HardSVMModel.fit(trainDataK500, train_labels)\n",
    "predictionsHard = HardSVMModel.predict(testDataK500)\n",
    "\n",
    "# Gamma = 100000\n",
    "GammaSVMModel = svm.SVC(kernel='linear', C = 100000)\n",
    "GammaSVMModel.fit(trainDataK500, train_labels)\n",
    "predictionsGamma = GammaSVMModel.predict(testDataK500)\n",
    "\n",
    "#Soft Linear SVM\n",
    "SoftSVMModel = svm.SVC(kernel='linear', C = 0.0001)\n",
    "SoftSVMModel.fit(trainDataK500, train_labels)\n",
    "predictionsSoft = SoftSVMModel.predict(testDataK500)"
   ]
  },
  {
   "cell_type": "code",
   "execution_count": 579,
   "id": "f8b64795",
   "metadata": {},
   "outputs": [
    {
     "data": {
      "image/png": "[encoded data removed]",
      "text/plain": [
       "<Figure size 432x288 with 1 Axes>"
      ]
     },
     "metadata": {
      "needs_background": "light"
     },
     "output_type": "display_data"
    },
    {
     "data": {
      "image/png": "[encoded data removed]",
      "text/plain": [
       "<Figure size 432x288 with 1 Axes>"
      ]
     },
     "metadata": {
      "needs_background": "light"
     },
     "output_type": "display_data"
    },
    {
     "data": {
      "image/png": "[encoded data removed]",
      "text/plain": [
       "<Figure size 432x288 with 1 Axes>"
      ]
     },
     "metadata": {
      "needs_background": "light"
     },
     "output_type": "display_data"
    }
   ],
   "source": [
    "def getScores(y_true, y_pred):\n",
    "    confusion_matrix = metrics.confusion_matrix(y_true, y_pred)\n",
    "    tn, fp, fn, tp = metrics.confusion_matrix(y_true, y_pred).ravel()\n",
    "    accuracy = (tp + tn) / len(y_true)\n",
    "    precision = tp/ (tp + fp)\n",
    "    recall = (tp) / (tp + fn)\n",
    "    f1 = 2*precision*recall/(precision + recall)\n",
    "    \n",
    "    return {\n",
    "        'confusion_matrix': confusion_matrix,\n",
    "        'accuracy': accuracy,\n",
    "        'precision': precision,\n",
    "        'recall': recall,\n",
    "        'f1': f1\n",
    "    }\n",
    "\n",
    "svmScores = {\n",
    "    'HardSMV': {\n",
    "        'climate': {\n",
    "            'scores': getScores(test_labels, predictionsHard)\n",
    "        },\n",
    "        'sports': {\n",
    "            'scores': getScores(1 - test_labels, 1 - predictionsHard)\n",
    "        }\n",
    "    },\n",
    "    'HighGammaSVM': {\n",
    "        'climate': {\n",
    "            'scores': getScores(test_labels, predictionsGamma)\n",
    "        },\n",
    "        'sports': {\n",
    "            'scores': getScores(1 - test_labels, 1 - predictionsHard)\n",
    "        }\n",
    "    },\n",
    "    'SoftSVM': {\n",
    "        'climate': {\n",
    "            'scores': getScores(test_labels, predictionsSoft)\n",
    "        },\n",
    "        'sports': {\n",
    "            'scores': getScores(1 - test_labels, 1 - predictionsHard)\n",
    "        }\n",
    "    }\n",
    "}\n",
    "\n",
    "# Plotting ROCs for SVM\n",
    "metrics.plot_roc_curve(HardSVMModel,testDataK500, test_labels)\n",
    "plt.title(\"#1 ROC for Hard SVM (C = 1000)\")\n",
    "plt.xlabel(\"False Positive Rate(Positive Label: Climate\")\n",
    "plt.ylabel(\"True Positive Rate(Positive Label: Climate\")\n",
    "plt.show()\n",
    "metrics.plot_roc_curve(GammaSVMModel,testDataK500, test_labels)\n",
    "plt.title(\"#2 ROC for Hard SVM (C = 100000)\")\n",
    "plt.xlabel(\"False Positive Rate(Positive Label: Climate\")\n",
    "plt.ylabel(\"True Positive Rate(Positive Label: Climate\")\n",
    "plt.show()\n",
    "metrics.plot_roc_curve(SoftSVMModel,testDataK500, test_labels)\n",
    "plt.title(\"#3 ROC for Soft SVM (C = 0.0001)\")\n",
    "plt.xlabel(\"False Positive Rate(Positive Label: Climate\")\n",
    "plt.ylabel(\"True Positive Rate(Positive Label: Climate\")\n",
    "plt.show()"
   ]
  },
  {
   "cell_type": "code",
   "execution_count": 580,
   "id": "c40c5a40",
   "metadata": {},
   "outputs": [],
   "source": [
    "# 5-Fold cross validation to find optimal gamma.\n",
    "def avgKFoldError(clf, train, y):\n",
    "    kf = KFold(n_splits=5)\n",
    "    error = 0\n",
    "    for train_idx, test_idx in kf.split(train):\n",
    "        x_train, x_test = train[train_idx], train[test_idx]\n",
    "        y_train, y_test = y[train_idx], y[test_idx]\n",
    "        \n",
    "        clf.fit(x_train, y_train)\n",
    "        predictions = clf.predict(x_test)\n",
    "        error = error + sum(np.abs(predictions - y_test))\n",
    "    \n",
    "    return error / kf.n_splits"
   ]
  },
  {
   "cell_type": "code",
   "execution_count": 581,
   "id": "d7d462d7",
   "metadata": {},
   "outputs": [
    {
     "name": "stdout",
     "output_type": "stream",
     "text": [
      "170.4 SVC(C=0.001, kernel='linear')\n",
      "170.4 SVC(C=0.01, kernel='linear')\n",
      "16.6 SVC(C=0.1, kernel='linear')\n",
      "12.0 SVC(kernel='linear')\n",
      "15.4 SVC(C=10.0, kernel='linear')\n",
      "16.6 SVC(C=100.0, kernel='linear')\n",
      "16.6 SVC(C=1000.0, kernel='linear')\n",
      "16.6 SVC(C=10000.0, kernel='linear')\n",
      "16.6 SVC(C=100000.0, kernel='linear')\n",
      "16.6 SVC(C=1000000.0, kernel='linear')\n",
      "\n",
      "------------Metrics for best SVM with C = 1.0 ------------- \n",
      "\n",
      "{'confusion_matrix': array([[209,   0],\n",
      "       [  9, 197]]), 'accuracy': 0.9783132530120482, 'precision': 1.0, 'recall': 0.9563106796116505, 'f1': 0.9776674937965261}\n"
     ]
    },
    {
     "data": {
      "image/png": "[encoded data removed]",
      "text/plain": [
       "<Figure size 432x288 with 1 Axes>"
      ]
     },
     "metadata": {
      "needs_background": "light"
     },
     "output_type": "display_data"
    }
   ],
   "source": [
    "gammas = np.linspace(-3,6,10)\n",
    "bestGamma = -1\n",
    "minError = np.infty\n",
    "bestSVM = None\n",
    "for gamma in gammas:\n",
    "    SVMk = svm.SVC(kernel='linear', C=(10**gamma))\n",
    "    err = avgKFoldError(SVMk, trainDataK500, train_labels)\n",
    "    print(err, SVMk)\n",
    "    if err <= minError:\n",
    "        minError = err\n",
    "        bestGamma = 10**gamma\n",
    "        bestSVM = SVMk\n",
    "\n",
    "# Training best SVM\n",
    "bestSVM.fit(trainDataK500, train_labels)\n",
    "bestSVMPred = bestSVM.predict(testDataK500)\n",
    "\n",
    "scores = getScores(test_labels, bestSVMPred)\n",
    "print(\"\\n------------Metrics for best SVM with C = {} ------------- \\n\".format(bestGamma))\n",
    "print(scores)\n",
    "\n",
    "metrics.plot_roc_curve(bestSVM, testDataK500, test_labels)\n",
    "plt.title(\"ROC for best SVM (C = {})\".format(bestGamma))\n",
    "plt.xlabel(\"False Positive Rate(Positive Label: Climate\")\n",
    "plt.ylabel(\"True Positive Rate(Positive Label: Climate\")\n",
    "plt.show()"
   ]
  },
  {
   "cell_type": "code",
   "execution_count": 582,
   "id": "050443eb",
   "metadata": {},
   "outputs": [
    {
     "data": {
      "image/png": "[encoded data removed]",
      "text/plain": [
       "<Figure size 432x288 with 2 Axes>"
      ]
     },
     "metadata": {
      "needs_background": "light"
     },
     "output_type": "display_data"
    }
   ],
   "source": [
    "plot_confusion_matrix(bestSVM, testDataK500, test_labels)\n",
    "plt.show()"
   ]
  },
  {
   "cell_type": "code",
   "execution_count": 583,
   "id": "5bcdba4d",
   "metadata": {},
   "outputs": [
    {
     "data": {
      "image/png": "[encoded data removed]",
      "text/plain": [
       "<Figure size 432x288 with 1 Axes>"
      ]
     },
     "metadata": {
      "needs_background": "light"
     },
     "output_type": "display_data"
    },
    {
     "name": "stdout",
     "output_type": "stream",
     "text": [
      "\n",
      "------------Metrics for Non regularized Logistic classifier------------- \n",
      "\n",
      "{'confusion_matrix': array([[209,   0],\n",
      "       [  7, 199]]), 'accuracy': 0.983132530120482, 'precision': 1.0, 'recall': 0.9660194174757282, 'f1': 0.9827160493827161}\n"
     ]
    }
   ],
   "source": [
    "# Logistic classifier\n",
    "# Setting C to be high thus making regularization term ~0\n",
    "logisticNoReg = LogisticRegression(random_state=42, C=100000, max_iter=5000).fit(trainDataK500, train_labels)\n",
    "logisticNoRegPred = logisticNoReg.predict(testDataK500)\n",
    "logisticNoRegScores = getScores(test_labels, logisticNoRegPred)\n",
    "\n",
    "# Plotting ROC for Non regularization Logistic classifier\n",
    "metrics.plot_roc_curve(logisticNoReg, testDataK500, test_labels)\n",
    "plt.title(\"ROC for Non regularized Logistic classifier\")\n",
    "plt.xlabel(\"False Positive Rate(Positive Label: Climate\")\n",
    "plt.ylabel(\"True Positive Rate(Positive Label: Climate\")\n",
    "plt.show()\n",
    "\n",
    "print(\"\\n------------Metrics for Non regularized Logistic classifier------------- \\n\")\n",
    "print(logisticNoRegScores)"
   ]
  },
  {
   "cell_type": "code",
   "execution_count": 584,
   "id": "0fd7ab0a",
   "metadata": {},
   "outputs": [
    {
     "data": {
      "image/png": "[encoded data removed]",
      "text/plain": [
       "<Figure size 432x288 with 2 Axes>"
      ]
     },
     "metadata": {
      "needs_background": "light"
     },
     "output_type": "display_data"
    }
   ],
   "source": [
    "plot_confusion_matrix(logisticNoReg, testDataK500, test_labels)\n",
    "plt.show()"
   ]
  },
  {
   "cell_type": "code",
   "execution_count": 654,
   "id": "204fa0ce",
   "metadata": {},
   "outputs": [
    {
     "name": "stdout",
     "output_type": "stream",
     "text": [
      "Avg. no. of misclassification:  166.0 LogisticRegression(C=0.0001, max_iter=5000, penalty='l1', random_state=42,\n",
      "                   solver='liblinear')\n",
      "Avg. no. of misclassification:  166.0 LogisticRegression(C=0.001, max_iter=5000, penalty='l1', random_state=42,\n",
      "                   solver='liblinear')\n",
      "Avg. no. of misclassification:  166.0 LogisticRegression(C=0.01, max_iter=5000, penalty='l1', random_state=42,\n",
      "                   solver='liblinear')\n",
      "Avg. no. of misclassification:  31.0 LogisticRegression(C=0.1, max_iter=5000, penalty='l1', random_state=42,\n",
      "                   solver='liblinear')\n",
      "Avg. no. of misclassification:  15.2 LogisticRegression(max_iter=5000, penalty='l1', random_state=42,\n",
      "                   solver='liblinear')\n",
      "Avg. no. of misclassification:  11.8 LogisticRegression(C=10.0, max_iter=5000, penalty='l1', random_state=42,\n",
      "                   solver='liblinear')\n",
      "Avg. no. of misclassification:  12.0 LogisticRegression(C=100.0, max_iter=5000, penalty='l1', random_state=42,\n",
      "                   solver='liblinear')\n",
      "Avg. no. of misclassification:  12.8 LogisticRegression(C=1000.0, max_iter=5000, penalty='l1', random_state=42,\n",
      "                   solver='liblinear')\n",
      "Avg. no. of misclassification:  19.0 LogisticRegression(C=10000.0, max_iter=5000, penalty='l1', random_state=42,\n",
      "                   solver='liblinear')\n",
      "\n",
      "------------Metrics for best L1 Logistic classifier with regularization = 10.0\n",
      "{'confusion_matrix': array([[206,   3],\n",
      "       [  7, 199]]), 'accuracy': 0.9759036144578314, 'precision': 0.9851485148514851, 'recall': 0.9660194174757282, 'f1': 0.9754901960784313}\n"
     ]
    },
    {
     "data": {
      "image/png": "[encoded data removed]",
      "text/plain": [
       "<Figure size 432x288 with 1 Axes>"
      ]
     },
     "metadata": {
      "needs_background": "light"
     },
     "output_type": "display_data"
    },
    {
     "name": "stdout",
     "output_type": "stream",
     "text": [
      "Avg. no. of misclassification:  57.2 LogisticRegression(C=0.0001, max_iter=5000, random_state=42, solver='liblinear')\n",
      "Avg. no. of misclassification:  44.2 LogisticRegression(C=0.001, max_iter=5000, random_state=42, solver='liblinear')\n",
      "Avg. no. of misclassification:  19.4 LogisticRegression(C=0.01, max_iter=5000, random_state=42, solver='liblinear')\n",
      "Avg. no. of misclassification:  16.2 LogisticRegression(C=0.1, max_iter=5000, random_state=42, solver='liblinear')\n",
      "Avg. no. of misclassification:  11.2 LogisticRegression(max_iter=5000, random_state=42, solver='liblinear')\n",
      "Avg. no. of misclassification:  10.6 LogisticRegression(C=10.0, max_iter=5000, random_state=42, solver='liblinear')\n",
      "Avg. no. of misclassification:  12.8 LogisticRegression(C=100.0, max_iter=5000, random_state=42, solver='liblinear')\n",
      "Avg. no. of misclassification:  14.4 LogisticRegression(C=1000.0, max_iter=5000, random_state=42, solver='liblinear')\n",
      "Avg. no. of misclassification:  14.8 LogisticRegression(C=10000.0, max_iter=5000, random_state=42,\n",
      "                   solver='liblinear')\n",
      "\n",
      "------------Metrics for best L2 Logistic classifier with regularization = 10.0\n",
      "{'confusion_matrix': array([[209,   0],\n",
      "       [  7, 199]]), 'accuracy': 0.983132530120482, 'precision': 1.0, 'recall': 0.9660194174757282, 'f1': 0.9827160493827161}\n"
     ]
    },
    {
     "data": {
      "image/png": "[encoded data removed]",
      "text/plain": [
       "<Figure size 432x288 with 1 Axes>"
      ]
     },
     "metadata": {
      "needs_background": "light"
     },
     "output_type": "display_data"
    }
   ],
   "source": [
    "# Finding best regularization parameter for both L1 and L2 regularization for Logistic classifier\n",
    "logRegs = np.linspace(-4,4,9)\n",
    "bestRegL1 = -1\n",
    "minL1Error = np.infty\n",
    "bestL1Model = None\n",
    "for reg in logRegs:\n",
    "    clfLog = LogisticRegression(penalty='l1', solver='liblinear', random_state=42, C=10**reg, max_iter=5000)\n",
    "    err = avgKFoldError(clfLog, trainDataK500, train_labels)\n",
    "    print(\"Avg. no. of misclassification: \", err, clfLog)\n",
    "    if err <= minL1Error:\n",
    "        minL1Error = err\n",
    "        bestRegL1 = 10**reg\n",
    "        bestL1Model = clfLog\n",
    "\n",
    "# Training best L1 Logistic classifier\n",
    "bestL1Model.fit(trainDataK500, train_labels)\n",
    "bestL1Pred = bestL1Model.predict(testDataK500)\n",
    "\n",
    "L1scores = getScores(test_labels, bestL1Pred)\n",
    "print(\"\\n------------Metrics for best L1 Logistic classifier with regularization = {}\".format(bestRegL1))\n",
    "print(L1scores)\n",
    "\n",
    "metrics.plot_roc_curve(bestL1Model, testDataK500, test_labels)\n",
    "plt.title(\"ROC for best L1 Logistic classifier with regularization = {}\".format(bestRegL1))\n",
    "plt.xlabel(\"False Positive Rate(Positive Label: Climate\")\n",
    "plt.ylabel(\"True Positive Rate(Positive Label: Climate\")\n",
    "plt.show()\n",
    "\n",
    "\n",
    "bestRegL2 = -1\n",
    "minL2Error = np.infty\n",
    "bestL2Model = None\n",
    "for reg in logRegs:\n",
    "    clfLog = LogisticRegression(penalty='l2', random_state=42, C=10**reg, max_iter=5000, solver='liblinear')\n",
    "    err = avgKFoldError(clfLog, trainDataK500, train_labels)\n",
    "    print(\"Avg. no. of misclassification: \", err, clfLog)\n",
    "    if err <= minL2Error:\n",
    "        minL2Error = err\n",
    "        bestRegL2 = 10**reg\n",
    "        bestL2Model = clfLog\n",
    "\n",
    "# Training best L1 Logistic classifier\n",
    "bestL2Model.fit(trainDataK500, train_labels)\n",
    "bestL2Pred = bestL2Model.predict(testDataK500)\n",
    "\n",
    "L2scores = getScores(test_labels, bestL2Pred)\n",
    "print(\"\\n------------Metrics for best L2 Logistic classifier with regularization = {}\".format(bestRegL1))\n",
    "print(L2scores)\n",
    "\n",
    "metrics.plot_roc_curve(bestL2Model, testDataK500, test_labels)\n",
    "plt.title(\"ROC for best L2 Logistic classifier with regularization = {}\".format(bestRegL2))\n",
    "plt.xlabel(\"False Positive Rate(Positive Label: Climate\")\n",
    "plt.ylabel(\"True Positive Rate(Positive Label: Climate\")\n",
    "plt.show()"
   ]
  },
  {
   "cell_type": "code",
   "execution_count": 655,
   "id": "e376c358",
   "metadata": {},
   "outputs": [
    {
     "data": {
      "image/png": "[encoded data removed]",
      "text/plain": [
       "<Figure size 432x288 with 2 Axes>"
      ]
     },
     "metadata": {
      "needs_background": "light"
     },
     "output_type": "display_data"
    },
    {
     "data": {
      "image/png": "[encoded data removed]",
      "text/plain": [
       "<Figure size 432x288 with 2 Axes>"
      ]
     },
     "metadata": {
      "needs_background": "light"
     },
     "output_type": "display_data"
    }
   ],
   "source": [
    "plot_confusion_matrix(bestL1Model, testDataK500, test_labels)\n",
    "plt.show()\n",
    "\n",
    "plot_confusion_matrix(bestL2Model, testDataK500, test_labels)\n",
    "plt.show()"
   ]
  },
  {
   "cell_type": "code",
   "execution_count": 587,
   "id": "9390a011",
   "metadata": {},
   "outputs": [
    {
     "name": "stdout",
     "output_type": "stream",
     "text": [
      "---------- Non regularized Classifier details ---------- \n",
      "\n",
      "LogisticRegression(C=100000, max_iter=5000, random_state=42) \n",
      "\n",
      "----------- Scores ---------- \n",
      "\n",
      "{'confusion_matrix': array([[209,   0],\n",
      "       [  7, 199]]), 'accuracy': 0.983132530120482, 'precision': 1.0, 'recall': 0.9660194174757282, 'f1': 0.9827160493827161}\n",
      "---------- Best L1 regularized Classifier details ---------- \n",
      "\n",
      "LogisticRegression(C=10.0, max_iter=5000, penalty='l1', random_state=42,\n",
      "                   solver='liblinear') \n",
      "\n",
      "----------- Scores ---------- \n",
      "\n",
      "{'confusion_matrix': array([[206,   3],\n",
      "       [  7, 199]]), 'accuracy': 0.9759036144578314, 'precision': 0.9851485148514851, 'recall': 0.9660194174757282, 'f1': 0.9754901960784313}\n",
      "---------- Best L2 regularized Classifier details ---------- \n",
      "\n",
      "LogisticRegression(C=10.0, max_iter=5000, random_state=42) \n",
      "\n",
      "----------- Scores ---------- \n",
      "\n",
      "{'confusion_matrix': array([[209,   0],\n",
      "       [  7, 199]]), 'accuracy': 0.983132530120482, 'precision': 1.0, 'recall': 0.9660194174757282, 'f1': 0.9827160493827161}\n"
     ]
    }
   ],
   "source": [
    "# Comparison b/w thre types of Logistic Classifiers.\n",
    "\n",
    "# Best Non regularized classifier\n",
    "print(\"---------- Non regularized Classifier details ---------- \\n\")\n",
    "print(logisticNoReg, \"\\n\")\n",
    "print(\"----------- Scores ---------- \\n\")\n",
    "print(logisticNoRegScores)\n",
    "\n",
    "# Best L1 regularized classifier\n",
    "print(\"---------- Best L1 regularized Classifier details ---------- \\n\")\n",
    "print(bestL1Model, \"\\n\")\n",
    "print(\"----------- Scores ---------- \\n\")\n",
    "print(L1scores)\n",
    "\n",
    "# Best L2 regularized classifier\n",
    "print(\"---------- Best L2 regularized Classifier details ---------- \\n\")\n",
    "print(bestL2Model, \"\\n\")\n",
    "print(\"----------- Scores ---------- \\n\")\n",
    "print(L2scores)"
   ]
  },
  {
   "cell_type": "code",
   "execution_count": 588,
   "id": "10583c0a",
   "metadata": {},
   "outputs": [
    {
     "data": {
      "image/png": "[encoded data removed]",
      "text/plain": [
       "<Figure size 432x288 with 1 Axes>"
      ]
     },
     "metadata": {
      "needs_background": "light"
     },
     "output_type": "display_data"
    },
    {
     "name": "stdout",
     "output_type": "stream",
     "text": [
      "\n",
      "------------Metrics for Gaussian Naive Bayes Model---------\n",
      "\n",
      "{'confusion_matrix': array([[172,  37],\n",
      "       [  6, 200]]), 'accuracy': 0.8963855421686747, 'precision': 0.8438818565400844, 'recall': 0.970873786407767, 'f1': 0.9029345372460497}\n"
     ]
    }
   ],
   "source": [
    "# Gaussian Naive Bayes Model\n",
    "GaussianNBModel = GaussianNB()\n",
    "GaussianNBModel.fit(trainDataK500, train_labels)\n",
    "gaussianNBPred = GaussianNBModel.predict(testDataK500)\n",
    "\n",
    "metrics.plot_roc_curve(GaussianNBModel, testDataK500, test_labels)\n",
    "plt.title(\"ROC for Gaussian Naive Bayes Model\")\n",
    "plt.xlabel(\"False Positive Rate(Positive Label: Climate\")\n",
    "plt.ylabel(\"True Positive Rate(Positive Label: Climate\")\n",
    "plt.show()\n",
    "\n",
    "gaussianNBScores = getScores(test_labels, gaussianNBPred)\n",
    "print(\"\\n------------Metrics for Gaussian Naive Bayes Model---------\\n\")\n",
    "print(gaussianNBScores)"
   ]
  },
  {
   "cell_type": "code",
   "execution_count": 14,
   "id": "7993037d",
   "metadata": {},
   "outputs": [],
   "source": [
    "a = pd.read_csv('./resultsGridSearch.csv')"
   ]
  },
  {
   "cell_type": "code",
   "execution_count": 17,
   "id": "578e9f01",
   "metadata": {},
   "outputs": [
    {
     "data": {
      "text/html": [
       "<div>\n",
       "<style scoped>\n",
       "    .dataframe tbody tr th:only-of-type {\n",
       "        vertical-align: middle;\n",
       "    }\n",
       "\n",
       "    .dataframe tbody tr th {\n",
       "        vertical-align: top;\n",
       "    }\n",
       "\n",
       "    .dataframe thead th {\n",
       "        text-align: right;\n",
       "    }\n",
       "</style>\n",
       "<table border=\"1\" class=\"dataframe\">\n",
       "  <thead>\n",
       "    <tr style=\"text-align: right;\">\n",
       "      <th></th>\n",
       "      <th>Unnamed: 0</th>\n",
       "      <th>mean_fit_time</th>\n",
       "      <th>std_fit_time</th>\n",
       "      <th>mean_score_time</th>\n",
       "      <th>std_score_time</th>\n",
       "      <th>param_clf</th>\n",
       "      <th>param_count</th>\n",
       "      <th>param_dim_reduce</th>\n",
       "      <th>params</th>\n",
       "      <th>split0_test_score</th>\n",
       "      <th>split1_test_score</th>\n",
       "      <th>split2_test_score</th>\n",
       "      <th>split3_test_score</th>\n",
       "      <th>split4_test_score</th>\n",
       "      <th>mean_test_score</th>\n",
       "      <th>std_test_score</th>\n",
       "      <th>rank_test_score</th>\n",
       "    </tr>\n",
       "  </thead>\n",
       "  <tbody>\n",
       "    <tr>\n",
       "      <th>72</th>\n",
       "      <td>72</td>\n",
       "      <td>2.315673</td>\n",
       "      <td>0.042662</td>\n",
       "      <td>0.159835</td>\n",
       "      <td>0.006352</td>\n",
       "      <td>LogisticRegression(C=10.0, max_iter=5000, pena...</td>\n",
       "      <td>CountVectorizer(min_df=3,\\n                pre...</td>\n",
       "      <td>TruncatedSVD(n_components=500, random_state=42)</td>\n",
       "      <td>{'clf': LogisticRegression(C=10.0, max_iter=50...</td>\n",
       "      <td>0.978916</td>\n",
       "      <td>0.975904</td>\n",
       "      <td>0.963746</td>\n",
       "      <td>0.972810</td>\n",
       "      <td>0.969789</td>\n",
       "      <td>0.972233</td>\n",
       "      <td>0.005224</td>\n",
       "      <td>1</td>\n",
       "    </tr>\n",
       "    <tr>\n",
       "      <th>97</th>\n",
       "      <td>97</td>\n",
       "      <td>9.268961</td>\n",
       "      <td>0.100465</td>\n",
       "      <td>2.012643</td>\n",
       "      <td>0.076325</td>\n",
       "      <td>LogisticRegression(C=10.0, max_iter=5000, pena...</td>\n",
       "      <td>CountVectorizer(min_df=3,\\n                pre...</td>\n",
       "      <td>TruncatedSVD(n_components=500, random_state=42)</td>\n",
       "      <td>{'clf': LogisticRegression(C=10.0, max_iter=50...</td>\n",
       "      <td>0.981928</td>\n",
       "      <td>0.981928</td>\n",
       "      <td>0.960725</td>\n",
       "      <td>0.966767</td>\n",
       "      <td>0.966767</td>\n",
       "      <td>0.971623</td>\n",
       "      <td>0.008698</td>\n",
       "      <td>2</td>\n",
       "    </tr>\n",
       "    <tr>\n",
       "      <th>87</th>\n",
       "      <td>87</td>\n",
       "      <td>1.815008</td>\n",
       "      <td>0.021376</td>\n",
       "      <td>0.155370</td>\n",
       "      <td>0.006162</td>\n",
       "      <td>LogisticRegression(C=10.0, max_iter=5000, pena...</td>\n",
       "      <td>CountVectorizer(min_df=5,\\n                pre...</td>\n",
       "      <td>TruncatedSVD(n_components=500, random_state=42)</td>\n",
       "      <td>{'clf': LogisticRegression(C=10.0, max_iter=50...</td>\n",
       "      <td>0.972892</td>\n",
       "      <td>0.978916</td>\n",
       "      <td>0.951662</td>\n",
       "      <td>0.981873</td>\n",
       "      <td>0.963746</td>\n",
       "      <td>0.969818</td>\n",
       "      <td>0.010991</td>\n",
       "      <td>3</td>\n",
       "    </tr>\n",
       "    <tr>\n",
       "      <th>27</th>\n",
       "      <td>27</td>\n",
       "      <td>1.973713</td>\n",
       "      <td>0.059857</td>\n",
       "      <td>0.183746</td>\n",
       "      <td>0.005624</td>\n",
       "      <td>SVC(kernel='linear')</td>\n",
       "      <td>CountVectorizer(min_df=5,\\n                pre...</td>\n",
       "      <td>TruncatedSVD(n_components=500, random_state=42)</td>\n",
       "      <td>{'clf': SVC(kernel='linear'), 'count': CountVe...</td>\n",
       "      <td>0.978916</td>\n",
       "      <td>0.981928</td>\n",
       "      <td>0.954683</td>\n",
       "      <td>0.966767</td>\n",
       "      <td>0.963746</td>\n",
       "      <td>0.969208</td>\n",
       "      <td>0.010028</td>\n",
       "      <td>4</td>\n",
       "    </tr>\n",
       "    <tr>\n",
       "      <th>189</th>\n",
       "      <td>189</td>\n",
       "      <td>10.898173</td>\n",
       "      <td>0.775023</td>\n",
       "      <td>2.079957</td>\n",
       "      <td>0.087756</td>\n",
       "      <td>GaussianNB()</td>\n",
       "      <td>CountVectorizer(min_df=3, preprocessor=&lt;functi...</td>\n",
       "      <td>NMF(init='random', n_components=50, random_sta...</td>\n",
       "      <td>{'clf': GaussianNB(), 'count': CountVectorizer...</td>\n",
       "      <td>0.960843</td>\n",
       "      <td>0.981928</td>\n",
       "      <td>0.978852</td>\n",
       "      <td>0.963746</td>\n",
       "      <td>0.957704</td>\n",
       "      <td>0.968615</td>\n",
       "      <td>0.009851</td>\n",
       "      <td>5</td>\n",
       "    </tr>\n",
       "    <tr>\n",
       "      <th>...</th>\n",
       "      <td>...</td>\n",
       "      <td>...</td>\n",
       "      <td>...</td>\n",
       "      <td>...</td>\n",
       "      <td>...</td>\n",
       "      <td>...</td>\n",
       "      <td>...</td>\n",
       "      <td>...</td>\n",
       "      <td>...</td>\n",
       "      <td>...</td>\n",
       "      <td>...</td>\n",
       "      <td>...</td>\n",
       "      <td>...</td>\n",
       "      <td>...</td>\n",
       "      <td>...</td>\n",
       "      <td>...</td>\n",
       "      <td>...</td>\n",
       "    </tr>\n",
       "    <tr>\n",
       "      <th>220</th>\n",
       "      <td>220</td>\n",
       "      <td>0.251717</td>\n",
       "      <td>0.005095</td>\n",
       "      <td>0.051631</td>\n",
       "      <td>0.001998</td>\n",
       "      <td>GaussianNB()</td>\n",
       "      <td>CountVectorizer(min_df=3,\\n                pre...</td>\n",
       "      <td>TruncatedSVD(n_components=5, random_state=42)</td>\n",
       "      <td>{'clf': GaussianNB(), 'count': CountVectorizer...</td>\n",
       "      <td>0.864458</td>\n",
       "      <td>0.852410</td>\n",
       "      <td>0.809668</td>\n",
       "      <td>0.897281</td>\n",
       "      <td>0.851964</td>\n",
       "      <td>0.855156</td>\n",
       "      <td>0.028100</td>\n",
       "      <td>236</td>\n",
       "    </tr>\n",
       "    <tr>\n",
       "      <th>230</th>\n",
       "      <td>230</td>\n",
       "      <td>8.030470</td>\n",
       "      <td>0.109228</td>\n",
       "      <td>2.013741</td>\n",
       "      <td>0.095850</td>\n",
       "      <td>GaussianNB()</td>\n",
       "      <td>CountVectorizer(min_df=5,\\n                pre...</td>\n",
       "      <td>TruncatedSVD(n_components=5, random_state=42)</td>\n",
       "      <td>{'clf': GaussianNB(), 'count': CountVectorizer...</td>\n",
       "      <td>0.879518</td>\n",
       "      <td>0.864458</td>\n",
       "      <td>0.818731</td>\n",
       "      <td>0.861027</td>\n",
       "      <td>0.842900</td>\n",
       "      <td>0.853327</td>\n",
       "      <td>0.020855</td>\n",
       "      <td>237</td>\n",
       "    </tr>\n",
       "    <tr>\n",
       "      <th>200</th>\n",
       "      <td>200</td>\n",
       "      <td>8.319007</td>\n",
       "      <td>0.062501</td>\n",
       "      <td>2.080274</td>\n",
       "      <td>0.100514</td>\n",
       "      <td>GaussianNB()</td>\n",
       "      <td>CountVectorizer(min_df=5, preprocessor=&lt;functi...</td>\n",
       "      <td>TruncatedSVD(n_components=5, random_state=42)</td>\n",
       "      <td>{'clf': GaussianNB(), 'count': CountVectorizer...</td>\n",
       "      <td>0.879518</td>\n",
       "      <td>0.858434</td>\n",
       "      <td>0.818731</td>\n",
       "      <td>0.861027</td>\n",
       "      <td>0.839879</td>\n",
       "      <td>0.851518</td>\n",
       "      <td>0.020653</td>\n",
       "      <td>238</td>\n",
       "    </tr>\n",
       "    <tr>\n",
       "      <th>43</th>\n",
       "      <td>43</td>\n",
       "      <td>0.344645</td>\n",
       "      <td>0.054854</td>\n",
       "      <td>0.058195</td>\n",
       "      <td>0.001834</td>\n",
       "      <td>SVC(kernel='linear')</td>\n",
       "      <td>CountVectorizer(min_df=3,\\n                pre...</td>\n",
       "      <td>NMF(init='random', n_components=5, random_stat...</td>\n",
       "      <td>{'clf': SVC(kernel='linear'), 'count': CountVe...</td>\n",
       "      <td>0.906627</td>\n",
       "      <td>0.855422</td>\n",
       "      <td>0.673716</td>\n",
       "      <td>0.903323</td>\n",
       "      <td>0.851964</td>\n",
       "      <td>0.838210</td>\n",
       "      <td>0.085398</td>\n",
       "      <td>239</td>\n",
       "    </tr>\n",
       "    <tr>\n",
       "      <th>58</th>\n",
       "      <td>58</td>\n",
       "      <td>0.359162</td>\n",
       "      <td>0.062738</td>\n",
       "      <td>0.054340</td>\n",
       "      <td>0.001660</td>\n",
       "      <td>SVC(kernel='linear')</td>\n",
       "      <td>CountVectorizer(min_df=5,\\n                pre...</td>\n",
       "      <td>NMF(init='random', n_components=5, random_stat...</td>\n",
       "      <td>{'clf': SVC(kernel='linear'), 'count': CountVe...</td>\n",
       "      <td>0.879518</td>\n",
       "      <td>0.804217</td>\n",
       "      <td>0.706949</td>\n",
       "      <td>0.915408</td>\n",
       "      <td>0.864048</td>\n",
       "      <td>0.834028</td>\n",
       "      <td>0.072981</td>\n",
       "      <td>240</td>\n",
       "    </tr>\n",
       "  </tbody>\n",
       "</table>\n",
       "<p>240 rows × 17 columns</p>\n",
       "</div>"
      ],
      "text/plain": [
       "     Unnamed: 0  mean_fit_time  std_fit_time  mean_score_time  std_score_time  \\\n",
       "72           72       2.315673      0.042662         0.159835        0.006352   \n",
       "97           97       9.268961      0.100465         2.012643        0.076325   \n",
       "87           87       1.815008      0.021376         0.155370        0.006162   \n",
       "27           27       1.973713      0.059857         0.183746        0.005624   \n",
       "189         189      10.898173      0.775023         2.079957        0.087756   \n",
       "..          ...            ...           ...              ...             ...   \n",
       "220         220       0.251717      0.005095         0.051631        0.001998   \n",
       "230         230       8.030470      0.109228         2.013741        0.095850   \n",
       "200         200       8.319007      0.062501         2.080274        0.100514   \n",
       "43           43       0.344645      0.054854         0.058195        0.001834   \n",
       "58           58       0.359162      0.062738         0.054340        0.001660   \n",
       "\n",
       "                                             param_clf  \\\n",
       "72   LogisticRegression(C=10.0, max_iter=5000, pena...   \n",
       "97   LogisticRegression(C=10.0, max_iter=5000, pena...   \n",
       "87   LogisticRegression(C=10.0, max_iter=5000, pena...   \n",
       "27                                SVC(kernel='linear')   \n",
       "189                                       GaussianNB()   \n",
       "..                                                 ...   \n",
       "220                                       GaussianNB()   \n",
       "230                                       GaussianNB()   \n",
       "200                                       GaussianNB()   \n",
       "43                                SVC(kernel='linear')   \n",
       "58                                SVC(kernel='linear')   \n",
       "\n",
       "                                           param_count  \\\n",
       "72   CountVectorizer(min_df=3,\\n                pre...   \n",
       "97   CountVectorizer(min_df=3,\\n                pre...   \n",
       "87   CountVectorizer(min_df=5,\\n                pre...   \n",
       "27   CountVectorizer(min_df=5,\\n                pre...   \n",
       "189  CountVectorizer(min_df=3, preprocessor=<functi...   \n",
       "..                                                 ...   \n",
       "220  CountVectorizer(min_df=3,\\n                pre...   \n",
       "230  CountVectorizer(min_df=5,\\n                pre...   \n",
       "200  CountVectorizer(min_df=5, preprocessor=<functi...   \n",
       "43   CountVectorizer(min_df=3,\\n                pre...   \n",
       "58   CountVectorizer(min_df=5,\\n                pre...   \n",
       "\n",
       "                                      param_dim_reduce  \\\n",
       "72     TruncatedSVD(n_components=500, random_state=42)   \n",
       "97     TruncatedSVD(n_components=500, random_state=42)   \n",
       "87     TruncatedSVD(n_components=500, random_state=42)   \n",
       "27     TruncatedSVD(n_components=500, random_state=42)   \n",
       "189  NMF(init='random', n_components=50, random_sta...   \n",
       "..                                                 ...   \n",
       "220      TruncatedSVD(n_components=5, random_state=42)   \n",
       "230      TruncatedSVD(n_components=5, random_state=42)   \n",
       "200      TruncatedSVD(n_components=5, random_state=42)   \n",
       "43   NMF(init='random', n_components=5, random_stat...   \n",
       "58   NMF(init='random', n_components=5, random_stat...   \n",
       "\n",
       "                                                params  split0_test_score  \\\n",
       "72   {'clf': LogisticRegression(C=10.0, max_iter=50...           0.978916   \n",
       "97   {'clf': LogisticRegression(C=10.0, max_iter=50...           0.981928   \n",
       "87   {'clf': LogisticRegression(C=10.0, max_iter=50...           0.972892   \n",
       "27   {'clf': SVC(kernel='linear'), 'count': CountVe...           0.978916   \n",
       "189  {'clf': GaussianNB(), 'count': CountVectorizer...           0.960843   \n",
       "..                                                 ...                ...   \n",
       "220  {'clf': GaussianNB(), 'count': CountVectorizer...           0.864458   \n",
       "230  {'clf': GaussianNB(), 'count': CountVectorizer...           0.879518   \n",
       "200  {'clf': GaussianNB(), 'count': CountVectorizer...           0.879518   \n",
       "43   {'clf': SVC(kernel='linear'), 'count': CountVe...           0.906627   \n",
       "58   {'clf': SVC(kernel='linear'), 'count': CountVe...           0.879518   \n",
       "\n",
       "     split1_test_score  split2_test_score  split3_test_score  \\\n",
       "72            0.975904           0.963746           0.972810   \n",
       "97            0.981928           0.960725           0.966767   \n",
       "87            0.978916           0.951662           0.981873   \n",
       "27            0.981928           0.954683           0.966767   \n",
       "189           0.981928           0.978852           0.963746   \n",
       "..                 ...                ...                ...   \n",
       "220           0.852410           0.809668           0.897281   \n",
       "230           0.864458           0.818731           0.861027   \n",
       "200           0.858434           0.818731           0.861027   \n",
       "43            0.855422           0.673716           0.903323   \n",
       "58            0.804217           0.706949           0.915408   \n",
       "\n",
       "     split4_test_score  mean_test_score  std_test_score  rank_test_score  \n",
       "72            0.969789         0.972233        0.005224                1  \n",
       "97            0.966767         0.971623        0.008698                2  \n",
       "87            0.963746         0.969818        0.010991                3  \n",
       "27            0.963746         0.969208        0.010028                4  \n",
       "189           0.957704         0.968615        0.009851                5  \n",
       "..                 ...              ...             ...              ...  \n",
       "220           0.851964         0.855156        0.028100              236  \n",
       "230           0.842900         0.853327        0.020855              237  \n",
       "200           0.839879         0.851518        0.020653              238  \n",
       "43            0.851964         0.838210        0.085398              239  \n",
       "58            0.864048         0.834028        0.072981              240  \n",
       "\n",
       "[240 rows x 17 columns]"
      ]
     },
     "execution_count": 17,
     "metadata": {},
     "output_type": "execute_result"
    }
   ],
   "source": [
    "a.sort_values(by=['mean_test_score'], ascending=False)"
   ]
  },
  {
   "cell_type": "code",
   "execution_count": null,
   "id": "deab0bef",
   "metadata": {},
   "outputs": [],
   "source": []
  }
 ],
 "metadata": {
  "kernelspec": {
   "display_name": "Python 3 (ipykernel)",
   "language": "python",
   "name": "python3"
  },
  "language_info": {
   "codemirror_mode": {
    "name": "ipython",
    "version": 3
   },
   "file_extension": ".py",
   "mimetype": "text/x-python",
   "name": "python",
   "nbconvert_exporter": "python",
   "pygments_lexer": "ipython3",
   "version": "3.8.10"
  }
 },
 "nbformat": 4,
 "nbformat_minor": 5
}
